{
 "cells": [
  {
   "cell_type": "code",
   "execution_count": 1,
   "metadata": {},
   "outputs": [],
   "source": [
    "import requests\n",
    "from bs4 import BeautifulSoup\n",
    "import bs4"
   ]
  },
  {
   "cell_type": "code",
   "execution_count": 2,
   "metadata": {},
   "outputs": [],
   "source": [
    "page = requests.get('https://www.x-rates.com/calculator/?from=GBP&to=EUR&amount=1')\n",
    "soup = BeautifulSoup(page.text, 'html.parser')\n",
    "price_box = soup.find('span',{'class':'ccOutputRslt'})\n",
    "rate = price_box.text.replace(\"EUR\", ' ')"
   ]
  },
  {
   "cell_type": "code",
   "execution_count": 3,
   "metadata": {},
   "outputs": [
    {
     "name": "stdout",
     "output_type": "stream",
     "text": [
      "<Response [200]>\n"
     ]
    }
   ],
   "source": [
    "print(page)"
   ]
  },
  {
   "cell_type": "code",
   "execution_count": 4,
   "metadata": {},
   "outputs": [],
   "source": [
    "HEADERS = ({'User-Agent':\n",
    "            'Mozilla/5.0 (Windows NT 6.1) AppleWebKit/537.36 (KHTML, like Gecko) Chrome/41.0.2228.0 Safari/537.36',\n",
    "            'Accept-Language': 'en-US, en;q=0.5'})\n",
    "offer=[]\n",
    "def tracker(url,TrackingPrice):\n",
    "    res = requests.get(url,headers=HEADERS)\n",
    "    soup_bis = bs4.BeautifulSoup(res.content, features='lxml')\n",
    "\n",
    "    # to prevent script from crashing when there isn't a price for the product\n",
    "    try:\n",
    "        title = soup_bis.find(id=\"productTitle\").get_text().strip()\n",
    "        amount = float(soup_bis.find(id='priceblock_ourprice').get_text().replace(\"£\",\"\").replace(\",\",\".\").strip())\n",
    "        amount_eur=amount*float(rate)\n",
    "        if amount_eur<=TrackingPrice:\n",
    "            offer.append(\"You got a offer on the {0} for {1}. Check out the product {2}\".format(title,amount_eur,url))\n",
    "\n",
    "\n",
    "    except:\n",
    "        offer.append(\"Couldn't get details about product\")"
   ]
  },
  {
   "cell_type": "code",
   "execution_count": 5,
   "metadata": {},
   "outputs": [],
   "source": [
    "url='https://www.amazon.co.uk/Body-Revolution-Hex-Dumbbells-Hexagonal/dp/B00NL7DAS8/ref=sr_1_69?dchild=1&keywords=20kg%2Bdumbbells&pd_rd_r=cc5aff8f-ce24-4c5a-8a88-c96c8c384956&pd_rd_w=KxEZz&pd_rd_wg=D18JB&pf_rd_p=5f50c5c7-54ba-45ff-a0c8-f07a51775ead&pf_rd_r=C535VXE3S2DT0X1C55T9&qid=1608320490&sr=8-69&th=1&psc=1'\n",
    "TrackingPrice=200\n",
    "tracker(url,TrackingPrice)"
   ]
  },
  {
   "cell_type": "code",
   "execution_count": 6,
   "metadata": {},
   "outputs": [
    {
     "data": {
      "text/plain": [
       "['You got a offer on the Body Revolution Hex Dumbbells – Rubber Encased Hexagonal Cast Iron Dumbbell Weights – Range of Weight & Size Variations Sold Separately for 187.53857767. Check out the product https://www.amazon.co.uk/Body-Revolution-Hex-Dumbbells-Hexagonal/dp/B00NL7DAS8/ref=sr_1_69?dchild=1&keywords=20kg%2Bdumbbells&pd_rd_r=cc5aff8f-ce24-4c5a-8a88-c96c8c384956&pd_rd_w=KxEZz&pd_rd_wg=D18JB&pf_rd_p=5f50c5c7-54ba-45ff-a0c8-f07a51775ead&pf_rd_r=C535VXE3S2DT0X1C55T9&qid=1608320490&sr=8-69&th=1&psc=1']"
      ]
     },
     "execution_count": 6,
     "metadata": {},
     "output_type": "execute_result"
    }
   ],
   "source": [
    "offer"
   ]
  },
  {
   "cell_type": "code",
   "execution_count": 7,
   "metadata": {},
   "outputs": [],
   "source": [
    "from twilio.rest import Client "
   ]
  },
  {
   "cell_type": "code",
   "execution_count": 7,
   "metadata": {},
   "outputs": [
    {
     "name": "stdout",
     "output_type": "stream",
     "text": [
      "SMce4b241d2fc2436e9dee486789074c32\n"
     ]
    }
   ],
   "source": [
    "account_sid = 'Your ID' \n",
    "auth_token = 'Your Token' \n",
    "client = Client(account_sid, auth_token) \n",
    " \n",
    "message = client.messages.create( \n",
    "                              from_='Your Twilion number',\n",
    "                              body=offer,      \n",
    "                              to='Your personal number' \n",
    "                          ) \n",
    " \n",
    "print(message.sid)"
   ]
  }
 ],
 "metadata": {
  "kernelspec": {
   "display_name": "Python 3",
   "language": "python",
   "name": "python3"
  },
  "language_info": {
   "codemirror_mode": {
    "name": "ipython",
    "version": 3
   },
   "file_extension": ".py",
   "mimetype": "text/x-python",
   "name": "python",
   "nbconvert_exporter": "python",
   "pygments_lexer": "ipython3",
   "version": "3.7.6"
  }
 },
 "nbformat": 4,
 "nbformat_minor": 4
}
